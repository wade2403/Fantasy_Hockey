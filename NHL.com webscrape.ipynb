{
 "cells": [
  {
   "cell_type": "code",
   "execution_count": 15,
   "metadata": {},
   "outputs": [],
   "source": [
    "import pandas as pd\n",
    "from bs4 import BeautifulSoup\n",
    "from urllib import request"
   ]
  },
  {
   "cell_type": "code",
   "execution_count": 16,
   "metadata": {},
   "outputs": [],
   "source": [
    "website19 = request.urlopen(\"https://www.hockey-reference.com/leagues/NHL_2019_skaters.html\")\n",
    "website20 = request.urlopen(\"https://www.hockey-reference.com/leagues/NHL_2020_skaters.html\")\n",
    "website_G = request.urlopen(\"https://www.hockey-reference.com/leagues/NHL_2020_goalies.html\")\n",
    "\n",
    "## enter website"
   ]
  },
  {
   "cell_type": "code",
   "execution_count": 17,
   "metadata": {},
   "outputs": [],
   "source": [
    "soup19 = BeautifulSoup(website19, \"lxml\")\n",
    "soup20 = BeautifulSoup(website20, \"lxml\")\n",
    "soupG = BeautifulSoup(website_G, \"lxml\")\n",
    "\n",
    "## Follow above soup command"
   ]
  },
  {
   "cell_type": "code",
   "execution_count": 18,
   "metadata": {},
   "outputs": [],
   "source": [
    "table_19 = soup19.find('table', attrs={\"class\": \"sortable\", \"id\":\"stats\"})\n",
    "table_20 = soup20.find('table', attrs={\"class\": \"sortable\", \"id\":\"stats\"})\n",
    "table_G = soupG.find('table', attrs={\"class\": \"sortable\", \"id\":\"stats\"})\n",
    "\n",
    "## Find the table with the data in the html code"
   ]
  },
  {
   "cell_type": "code",
   "execution_count": 19,
   "metadata": {},
   "outputs": [],
   "source": [
    "table_headers19=[header.text for header in table_19.find(\"thead\").find_all(\"th\")]\n",
    "table_rows19= table_19.find_all(\"tr\")\n",
    "\n",
    "table_headers20=[header.text for header in table_20.find(\"thead\").find_all(\"th\")]\n",
    "table_rows20= table_20.find_all(\"tr\")\n",
    "\n",
    "table_headersG=[header.text for header in table_G.find(\"thead\").find_all(\"th\")]\n",
    "table_rowsG= table_G.find_all(\"tr\")\n",
    "\n",
    "## The table headers are represented by a th in the table\n",
    "## The rows are where all the data points are stored within the tr html codes"
   ]
  },
  {
   "cell_type": "code",
   "execution_count": 20,
   "metadata": {},
   "outputs": [],
   "source": [
    "table_headers19 = table_headers19[14:]\n",
    "table_headers20 = table_headers20[14:]\n",
    "table_headersG = table_headersG[9:]\n",
    "\n",
    "## I am excluding some of the first headers of each table"
   ]
  },
  {
   "cell_type": "code",
   "execution_count": 21,
   "metadata": {},
   "outputs": [],
   "source": [
    "final_data19 = []\n",
    "for tr in table_rows19:\n",
    "    td=tr.find_all(\"td\")\n",
    "    row = [tr.text for tr in td]\n",
    "    final_data19.append(row)\n",
    "    \n",
    "final_data20 = []\n",
    "for tr in table_rows20:\n",
    "    td=tr.find_all(\"td\")\n",
    "    row = [tr.text for tr in td]\n",
    "    final_data20.append(row)\n",
    "    \n",
    "final_dataG = []\n",
    "for tr in table_rowsG:\n",
    "    td=tr.find_all(\"td\")\n",
    "    row = [tr.text for tr in td]\n",
    "    final_dataG.append(row)\n",
    "    \n",
    "## This code puts the raw data into a dataframe"
   ]
  },
  {
   "cell_type": "code",
   "execution_count": 22,
   "metadata": {},
   "outputs": [],
   "source": [
    "NHL19=pd.DataFrame(final_data19, columns=table_headers19[1:])\n",
    "NHL20=pd.DataFrame(final_data20, columns=table_headers20[1:])\n",
    "NHL20_G=pd.DataFrame(final_dataG, columns=table_headersG[1:])\n",
    "\n",
    "## Rename the dataset"
   ]
  },
  {
   "cell_type": "code",
   "execution_count": 23,
   "metadata": {},
   "outputs": [],
   "source": [
    "NHL19[\"Age\"] = NHL19[\"Age\"].astype(float)\n",
    "NHL19[\"GP\"] = NHL19[\"GP\"].astype(float)\n",
    "NHL19[\"G\"] = NHL19[\"G\"].astype(float)\n",
    "NHL19[\"A\"] = NHL19[\"A\"].astype(float)\n",
    "NHL19[\"PTS\"] = NHL19[\"PTS\"].astype(float)\n",
    "NHL19[\"+/-\"] = NHL19[\"+/-\"].astype(float)\n",
    "NHL19[\"PIM\"] = NHL19[\"PIM\"].astype(float)\n",
    "NHL19[\"PS\"] = NHL19[\"PS\"].astype(float)\n",
    "NHL19[\"EV\"] = NHL19[\"EV\"].astype(float)\n",
    "NHL19[\"PP\"] = NHL19[\"PP\"].astype(float)\n",
    "NHL19[\"SH\"] = NHL19[\"SH\"].astype(float)\n",
    "NHL19[\"GW\"] = NHL19[\"GW\"].astype(float)\n",
    "NHL19[\"EV\"] = NHL19[\"EV\"].astype(float)\n",
    "NHL19[\"PP\"] = NHL19[\"PP\"].astype(float)\n",
    "NHL19[\"SH\"] = NHL19[\"SH\"].astype(float)\n",
    "NHL19[\"S\"] = NHL19[\"S\"].astype(float)\n",
    "NHL19[\"TOI\"] = NHL19[\"TOI\"].astype(float)\n",
    "NHL19[\"BLK\"] = NHL19[\"BLK\"].astype(float)\n",
    "NHL19[\"HIT\"] = NHL19[\"HIT\"].astype(float)\n",
    "NHL19[\"FOW\"] = NHL19[\"FOW\"].astype(float)\n",
    "NHL19[\"FOL\"] = NHL19[\"FOL\"].astype(float)\n",
    "\n",
    "## Changing data to float"
   ]
  },
  {
   "cell_type": "code",
   "execution_count": 24,
   "metadata": {},
   "outputs": [],
   "source": [
    "NHL20[\"Age\"] = NHL20[\"Age\"].astype(float)\n",
    "NHL20[\"GP\"] = NHL20[\"GP\"].astype(float)\n",
    "NHL20[\"G\"] = NHL20[\"G\"].astype(float)\n",
    "NHL20[\"A\"] = NHL20[\"A\"].astype(float)\n",
    "NHL20[\"PTS\"] = NHL20[\"PTS\"].astype(float)\n",
    "NHL20[\"+/-\"] = NHL20[\"+/-\"].astype(float)\n",
    "NHL20[\"PIM\"] = NHL20[\"PIM\"].astype(float)\n",
    "NHL20[\"PS\"] = NHL20[\"PS\"].astype(float)\n",
    "NHL20[\"EV\"] = NHL20[\"EV\"].astype(float)\n",
    "NHL20[\"PP\"] = NHL20[\"PP\"].astype(float)\n",
    "NHL20[\"SH\"] = NHL20[\"SH\"].astype(float)\n",
    "NHL20[\"GW\"] = NHL20[\"GW\"].astype(float)\n",
    "NHL20[\"EV\"] = NHL20[\"EV\"].astype(float)\n",
    "NHL20[\"PP\"] = NHL20[\"PP\"].astype(float)\n",
    "NHL20[\"SH\"] = NHL20[\"SH\"].astype(float)\n",
    "NHL20[\"S\"] = NHL20[\"S\"].astype(float)\n",
    "NHL20[\"TOI\"] = NHL20[\"TOI\"].astype(float)\n",
    "NHL20[\"BLK\"] = NHL20[\"BLK\"].astype(float)\n",
    "NHL20[\"HIT\"] = NHL20[\"HIT\"].astype(float)\n",
    "NHL20[\"FOW\"] = NHL20[\"FOW\"].astype(float)\n",
    "NHL20[\"FOL\"] = NHL20[\"FOL\"].astype(float)\n",
    "\n",
    "## Chaning data to float"
   ]
  },
  {
   "cell_type": "code",
   "execution_count": 25,
   "metadata": {},
   "outputs": [],
   "source": [
    "NHL20_G[\"Age\"] = NHL20_G[\"Age\"].astype(float)\n",
    "NHL20_G[\"GP\"] = NHL20_G[\"GP\"].astype(float)\n",
    "NHL20_G[\"W\"] = NHL20_G[\"W\"].astype(float)\n",
    "NHL20_G[\"L\"] = NHL20_G[\"L\"].astype(float)\n",
    "NHL20_G[\"GAA\"] = NHL20_G[\"GAA\"].astype(float)\n",
    "NHL20_G[\"SO\"] = NHL20_G[\"SO\"].astype(float)\n",
    "NHL20_G[\"GA\"] = NHL20_G[\"GA\"].astype(float)\n",
    "NHL20_G[\"SV\"] = NHL20_G[\"SV\"].astype(float)\n",
    "\n",
    "## Changing data to float"
   ]
  },
  {
   "cell_type": "code",
   "execution_count": 26,
   "metadata": {},
   "outputs": [],
   "source": [
    "NHL19.drop([\"FOW\", \"FOL\", \"FO%\",\"+/-\",\"PIM\",\"PS\",\"BLK\",\"HIT\"], axis=1, inplace=True)\n",
    "NHL20.drop([\"FOW\", \"FOL\", \"FO%\",\"+/-\",\"PIM\",\"PS\",\"BLK\",\"HIT\"], axis=1, inplace=True)\n",
    "NHL20_G.drop([\"GPS\",\"MIN\",\"QS\",\"RBS\",\"GSAA\",\"G\",\"A\",\"PTS\",\"PIM\"], axis=1, inplace=True)\n",
    "\n",
    "## Drop unnecessary columns"
   ]
  },
  {
   "cell_type": "code",
   "execution_count": 30,
   "metadata": {},
   "outputs": [],
   "source": [
    "NHL19[\"FTS\"] = NHL19[\"G\"]*2.5 + NHL19[\"A\"]*1.5 + NHL19[\"S\"]*0.2 + NHL19[\"GW\"]  \n",
    "NHL20[\"FTS\"] = NHL20[\"G\"]*2.5 + NHL20[\"A\"]*1.5 + NHL20[\"S\"]*0.2 + NHL20[\"GW\"]  \n",
    "NHL20_G[\"FTS\"] = NHL20_G[\"W\"]*2 + NHL20_G[\"SO\"]*2.5 + NHL20_G[\"SV\"]*0.2 - NHL20_G[\"GA\"]\n",
    "\n",
    "## Create fantasy variable"
   ]
  },
  {
   "cell_type": "code",
   "execution_count": 71,
   "metadata": {},
   "outputs": [],
   "source": [
    "NHL19[\"FTS/GP\"] = NHL19[\"FTS\"]/NHL19[\"GP\"]\n",
    "NHL20[\"FTS/GP\"] = NHL20[\"FTS\"]/NHL20[\"GP\"]\n",
    "\n",
    "## Create fantasy variable per games played"
   ]
  },
  {
   "cell_type": "code",
   "execution_count": 72,
   "metadata": {},
   "outputs": [
    {
     "data": {
      "text/plain": [
       "38     290.2\n",
       "101    269.4\n",
       "77     244.0\n",
       "3      233.8\n",
       "8      227.8\n",
       "       ...  \n",
       "1        NaN\n",
       "26       NaN\n",
       "49       NaN\n",
       "72       NaN\n",
       "93       NaN\n",
       "Name: FTS, Length: 103, dtype: float64"
      ]
     },
     "execution_count": 72,
     "metadata": {},
     "output_type": "execute_result"
    }
   ],
   "source": [
    "NHL19[\"FTS/GP\"].sort_values(ascending=False)\n",
    "NHL20[\"FTS/GP\"].sort_values(ascending=False)\n",
    "NHL20_G[\"FTS\"].sort_values(ascending=False)"
   ]
  },
  {
   "cell_type": "code",
   "execution_count": 73,
   "metadata": {},
   "outputs": [],
   "source": [
    "NHL19 = NHL19.nlargest(1000,\"PTS\")\n",
    "NHL20 = NHL20.nlargest(1000,\"PTS\")"
   ]
  },
  {
   "cell_type": "code",
   "execution_count": 74,
   "metadata": {},
   "outputs": [
    {
     "data": {
      "text/html": [
       "<div>\n",
       "<style scoped>\n",
       "    .dataframe tbody tr th:only-of-type {\n",
       "        vertical-align: middle;\n",
       "    }\n",
       "\n",
       "    .dataframe tbody tr th {\n",
       "        vertical-align: top;\n",
       "    }\n",
       "\n",
       "    .dataframe thead th {\n",
       "        text-align: right;\n",
       "    }\n",
       "</style>\n",
       "<table border=\"1\" class=\"dataframe\">\n",
       "  <thead>\n",
       "    <tr style=\"text-align: right;\">\n",
       "      <th></th>\n",
       "      <th>Player</th>\n",
       "      <th>Age</th>\n",
       "      <th>Tm</th>\n",
       "      <th>Pos</th>\n",
       "      <th>GP</th>\n",
       "      <th>G</th>\n",
       "      <th>A</th>\n",
       "      <th>PTS</th>\n",
       "      <th>EV</th>\n",
       "      <th>PP</th>\n",
       "      <th>...</th>\n",
       "      <th>GW</th>\n",
       "      <th>EV</th>\n",
       "      <th>PP</th>\n",
       "      <th>SH</th>\n",
       "      <th>S</th>\n",
       "      <th>S%</th>\n",
       "      <th>TOI</th>\n",
       "      <th>ATOI</th>\n",
       "      <th>FTS</th>\n",
       "      <th>FTS/GP</th>\n",
       "    </tr>\n",
       "  </thead>\n",
       "  <tbody>\n",
       "    <tr>\n",
       "      <th>236</th>\n",
       "      <td>Leon Draisaitl</td>\n",
       "      <td>24.0</td>\n",
       "      <td>EDM</td>\n",
       "      <td>C</td>\n",
       "      <td>71.0</td>\n",
       "      <td>43.0</td>\n",
       "      <td>67.0</td>\n",
       "      <td>110.0</td>\n",
       "      <td>27.0</td>\n",
       "      <td>16.0</td>\n",
       "      <td>...</td>\n",
       "      <td>10.0</td>\n",
       "      <td>39.0</td>\n",
       "      <td>28.0</td>\n",
       "      <td>0.0</td>\n",
       "      <td>218.0</td>\n",
       "      <td>19.7</td>\n",
       "      <td>1605.0</td>\n",
       "      <td>22:37</td>\n",
       "      <td>316.6</td>\n",
       "      <td>4.459155</td>\n",
       "    </tr>\n",
       "    <tr>\n",
       "      <th>651</th>\n",
       "      <td>Connor McDavid</td>\n",
       "      <td>23.0</td>\n",
       "      <td>EDM</td>\n",
       "      <td>C</td>\n",
       "      <td>64.0</td>\n",
       "      <td>34.0</td>\n",
       "      <td>63.0</td>\n",
       "      <td>97.0</td>\n",
       "      <td>23.0</td>\n",
       "      <td>11.0</td>\n",
       "      <td>...</td>\n",
       "      <td>6.0</td>\n",
       "      <td>31.0</td>\n",
       "      <td>32.0</td>\n",
       "      <td>0.0</td>\n",
       "      <td>212.0</td>\n",
       "      <td>16.0</td>\n",
       "      <td>1399.0</td>\n",
       "      <td>21:52</td>\n",
       "      <td>276.4</td>\n",
       "      <td>4.318750</td>\n",
       "    </tr>\n",
       "    <tr>\n",
       "      <th>740</th>\n",
       "      <td>Artemi Panarin</td>\n",
       "      <td>28.0</td>\n",
       "      <td>NYR</td>\n",
       "      <td>LW</td>\n",
       "      <td>69.0</td>\n",
       "      <td>32.0</td>\n",
       "      <td>63.0</td>\n",
       "      <td>95.0</td>\n",
       "      <td>25.0</td>\n",
       "      <td>7.0</td>\n",
       "      <td>...</td>\n",
       "      <td>4.0</td>\n",
       "      <td>46.0</td>\n",
       "      <td>17.0</td>\n",
       "      <td>0.0</td>\n",
       "      <td>209.0</td>\n",
       "      <td>15.3</td>\n",
       "      <td>1422.0</td>\n",
       "      <td>20:36</td>\n",
       "      <td>267.8</td>\n",
       "      <td>3.881159</td>\n",
       "    </tr>\n",
       "    <tr>\n",
       "      <th>746</th>\n",
       "      <td>David Pastrnak</td>\n",
       "      <td>23.0</td>\n",
       "      <td>BOS</td>\n",
       "      <td>RW</td>\n",
       "      <td>70.0</td>\n",
       "      <td>48.0</td>\n",
       "      <td>47.0</td>\n",
       "      <td>95.0</td>\n",
       "      <td>28.0</td>\n",
       "      <td>20.0</td>\n",
       "      <td>...</td>\n",
       "      <td>10.0</td>\n",
       "      <td>29.0</td>\n",
       "      <td>18.0</td>\n",
       "      <td>0.0</td>\n",
       "      <td>279.0</td>\n",
       "      <td>17.2</td>\n",
       "      <td>1327.0</td>\n",
       "      <td>18:58</td>\n",
       "      <td>303.8</td>\n",
       "      <td>4.340000</td>\n",
       "    </tr>\n",
       "    <tr>\n",
       "      <th>614</th>\n",
       "      <td>Nathan MacKinnon</td>\n",
       "      <td>24.0</td>\n",
       "      <td>COL</td>\n",
       "      <td>C</td>\n",
       "      <td>69.0</td>\n",
       "      <td>35.0</td>\n",
       "      <td>58.0</td>\n",
       "      <td>93.0</td>\n",
       "      <td>23.0</td>\n",
       "      <td>12.0</td>\n",
       "      <td>...</td>\n",
       "      <td>4.0</td>\n",
       "      <td>39.0</td>\n",
       "      <td>19.0</td>\n",
       "      <td>0.0</td>\n",
       "      <td>318.0</td>\n",
       "      <td>11.0</td>\n",
       "      <td>1464.0</td>\n",
       "      <td>21:13</td>\n",
       "      <td>288.6</td>\n",
       "      <td>4.182609</td>\n",
       "    </tr>\n",
       "  </tbody>\n",
       "</table>\n",
       "<p>5 rows × 21 columns</p>\n",
       "</div>"
      ],
      "text/plain": [
       "               Player   Age   Tm Pos    GP     G     A    PTS    EV    PP  \\\n",
       "236    Leon Draisaitl  24.0  EDM   C  71.0  43.0  67.0  110.0  27.0  16.0   \n",
       "651    Connor McDavid  23.0  EDM   C  64.0  34.0  63.0   97.0  23.0  11.0   \n",
       "740    Artemi Panarin  28.0  NYR  LW  69.0  32.0  63.0   95.0  25.0   7.0   \n",
       "746    David Pastrnak  23.0  BOS  RW  70.0  48.0  47.0   95.0  28.0  20.0   \n",
       "614  Nathan MacKinnon  24.0  COL   C  69.0  35.0  58.0   93.0  23.0  12.0   \n",
       "\n",
       "     ...    GW    EV    PP   SH      S    S%     TOI   ATOI    FTS    FTS/GP  \n",
       "236  ...  10.0  39.0  28.0  0.0  218.0  19.7  1605.0  22:37  316.6  4.459155  \n",
       "651  ...   6.0  31.0  32.0  0.0  212.0  16.0  1399.0  21:52  276.4  4.318750  \n",
       "740  ...   4.0  46.0  17.0  0.0  209.0  15.3  1422.0  20:36  267.8  3.881159  \n",
       "746  ...  10.0  29.0  18.0  0.0  279.0  17.2  1327.0  18:58  303.8  4.340000  \n",
       "614  ...   4.0  39.0  19.0  0.0  318.0  11.0  1464.0  21:13  288.6  4.182609  \n",
       "\n",
       "[5 rows x 21 columns]"
      ]
     },
     "execution_count": 74,
     "metadata": {},
     "output_type": "execute_result"
    }
   ],
   "source": [
    "NHL20.head()"
   ]
  },
  {
   "cell_type": "markdown",
   "metadata": {},
   "source": [
    "## Position analysis of top 250_19 and 20"
   ]
  },
  {
   "cell_type": "code",
   "execution_count": 75,
   "metadata": {},
   "outputs": [],
   "source": [
    "NHL19.to_excel(\"./NHL_Fantasy_stats_19_full.xlsx\", index=True)"
   ]
  },
  {
   "cell_type": "code",
   "execution_count": 76,
   "metadata": {},
   "outputs": [],
   "source": [
    "NHL20.to_excel(\"./NHL_Fantasy_stats_20_full.xlsx\", index=True)"
   ]
  },
  {
   "cell_type": "code",
   "execution_count": 77,
   "metadata": {},
   "outputs": [],
   "source": [
    "NHL20_G.to_excel(\"./NHL_Fantasy_stats_20_full_Goalie.xlsx\", index=True)"
   ]
  },
  {
   "cell_type": "code",
   "execution_count": null,
   "metadata": {},
   "outputs": [],
   "source": []
  }
 ],
 "metadata": {
  "kernelspec": {
   "display_name": "Python 3",
   "language": "python",
   "name": "python3"
  },
  "language_info": {
   "codemirror_mode": {
    "name": "ipython",
    "version": 3
   },
   "file_extension": ".py",
   "mimetype": "text/x-python",
   "name": "python",
   "nbconvert_exporter": "python",
   "pygments_lexer": "ipython3",
   "version": "3.7.6"
  }
 },
 "nbformat": 4,
 "nbformat_minor": 4
}
